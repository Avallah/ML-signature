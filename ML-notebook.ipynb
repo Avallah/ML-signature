{
 "cells": [
  {
   "cell_type": "markdown",
   "metadata": {},
   "source": [
    "# ML-signature\n",
    "\n",
    "## 1. The dataset\n",
    "\n",
    "For each time serie, we get:\n",
    "\n",
    "- name (e.g 'Y4')\n",
    "- category (e.g 'Macro')\n",
    "- frequency (e.g yearly)\n",
    "- observations\n",
    "\n",
    "##### Load .py files"
   ]
  },
  {
   "cell_type": "code",
   "execution_count": 242,
   "metadata": {},
   "outputs": [],
   "source": [
    "%run readData.py\n",
    "%run signature.py\n",
    "%run ML.py"
   ]
  },
  {
   "cell_type": "markdown",
   "metadata": {},
   "source": [
    "##### Read the data"
   ]
  },
  {
   "cell_type": "code",
   "execution_count": 228,
   "metadata": {},
   "outputs": [
    {
     "name": "stdout",
     "output_type": "stream",
     "text": [
      "file .data/Yearly-train.csv read\n",
      "file .data/Weekly-train.csv read\n",
      "file .data/Quarterly-train.csv read\n",
      "file .data/Monthly-train.csv read\n",
      "file .data/Hourly-train.csv read\n",
      "file .data/Daily-train.csv read\n"
     ]
    }
   ],
   "source": [
    "yearly_train = readData(\".data/Yearly-train.csv\", True)\n",
    "weekly_train=readData('.data/Weekly-train.csv', True)\n",
    "quaterly_train=readData('.data/Quarterly-train.csv', True)\n",
    "monthly_train= readData('.data/Monthly-train.csv', True)\n",
    "hourly_train=readData('.data/Hourly-train.csv', True)\n",
    "daily_train=readData('.data/Daily-train.csv', True)\n",
    "\n",
    "#For non differentiated data:\n",
    "# yearly_train = readData(\".data/Yearly-train.csv\")"
   ]
  },
  {
   "cell_type": "code",
   "execution_count": 220,
   "metadata": {},
   "outputs": [
    {
     "name": "stdout",
     "output_type": "stream",
     "text": [
      "file .data/M4-info.csv read\n"
     ]
    }
   ],
   "source": [
    "info = readInfoData('.data/M4-info.csv')"
   ]
  },
  {
   "cell_type": "markdown",
   "metadata": {},
   "source": [
    "##### Playing around with esig and sklearn\n",
    "\n",
    "Method 1: Linear regression\n",
    "\n",
    "- Preprocessing:\n",
    "\n",
    "Not that when reading the data, we differentiate. \n",
    "\n",
    "The data that has been read is organised this way:\n",
    "[name, X, Y], where $Y = 1$ if we went up from $t$ to $t+1$, 0 if we went down from $t$ to $t+1$.\n",
    "\n",
    "We apply the signature to $X$ to finally use $S(X),Y$\n",
    "\n",
    "- Model\n",
    "\n",
    "We use a simple linear regression. The LinearRegression function takes a list of paths and a test length and gives back the error in misclassification for both training and testing sets."
   ]
  },
  {
   "cell_type": "code",
   "execution_count": 243,
   "metadata": {},
   "outputs": [
    {
     "name": "stdout",
     "output_type": "stream",
     "text": [
      "Signature calculated at order 2 for all paths\n",
      "Signature calculated at order 2 for all paths\n",
      "Signature calculated at order 2 for all paths\n",
      "Signature calculated at order 2 for all paths\n",
      "Signature calculated at order 2 for all paths\n",
      "Signature calculated at order 2 for all paths\n"
     ]
    }
   ],
   "source": [
    "out_yearly = linearRegression(yearly_train,0.75,2)\n",
    "out_weekly = linearRegression(weekly_train,0.75,2)\n",
    "out_quaterly = linearRegression(quaterly_train,0.75,2)\n",
    "out_monthly = linearRegression(monthly_train,0.75,2)\n",
    "out_hourly = linearRegression(hourly_train,0.75,2)\n",
    "out_daily = linearRegression(daily_train,0.75,2)"
   ]
  },
  {
   "cell_type": "code",
   "execution_count": 236,
   "metadata": {},
   "outputs": [
    {
     "name": "stdout",
     "output_type": "stream",
     "text": [
      "[0.37426086956521737, 0.37866666666666665]\n",
      "[0.2808988764044944, 0.5037037037037037]\n",
      "[0.38083333333333336, 0.38083333333333336]\n",
      "[0.4235, 0.41591666666666666]\n",
      "[0.1262135922330097, 0.12218649517684887]\n",
      "[0.4109848484848485, 0.4109113844213182]\n"
     ]
    }
   ],
   "source": [
    "print(out_yearly)\n",
    "print(out_weekly)\n",
    "print(out_quaterly)\n",
    "print(out_monthly)\n",
    "print(out_hourly)\n",
    "print(out_daily)"
   ]
  },
  {
   "cell_type": "code",
   "execution_count": 244,
   "metadata": {},
   "outputs": [
    {
     "name": "stdout",
     "output_type": "stream",
     "text": [
      "Signature calculated at order 3 for all paths\n"
     ]
    }
   ],
   "source": [
    "out_yearly = linearRegression(yearly_train,0.75,3)"
   ]
  },
  {
   "cell_type": "code",
   "execution_count": 245,
   "metadata": {},
   "outputs": [
    {
     "name": "stdout",
     "output_type": "stream",
     "text": [
      "[0.37426086956521737, 0.37866666666666665]\n"
     ]
    }
   ],
   "source": [
    "print(out_yearly)"
   ]
  },
  {
   "cell_type": "markdown",
   "metadata": {},
   "source": [
    "### Remarks \n",
    "\n",
    "- find a way to incorporate the information in the info file somehow?\n",
    "\n",
    "- see what difference the order in the signature is making?\n",
    "\n",
    "- data preprocessing? (for now we just differentiate)\n",
    "\n",
    "- outliers?\n",
    "\n",
    "- find a way to get all the import without adding them everytime"
   ]
  }
 ],
 "metadata": {
  "kernelspec": {
   "display_name": "Python 3",
   "language": "python",
   "name": "python3"
  },
  "language_info": {
   "codemirror_mode": {
    "name": "ipython",
    "version": 3
   },
   "file_extension": ".py",
   "mimetype": "text/x-python",
   "name": "python",
   "nbconvert_exporter": "python",
   "pygments_lexer": "ipython3",
   "version": "3.6.3"
  }
 },
 "nbformat": 4,
 "nbformat_minor": 1
}
