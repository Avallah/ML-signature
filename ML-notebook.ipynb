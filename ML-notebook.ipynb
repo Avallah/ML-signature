{
 "cells": [
  {
   "cell_type": "code",
   "execution_count": 3,
   "metadata": {},
   "outputs": [],
   "source": [
    "# %load readData.py\n",
    "import matplotlib.pyplot as plt\n",
    "import numpy as np\n",
    "\n",
    "def readData(pathToCsvFile):\n",
    "    out = []\n",
    "    i = 0\n",
    "    with open(pathToCsvFile) as f:\n",
    "        f.readline()\n",
    "        for line in f:\n",
    "            line = line.replace('\"', '').strip().split(',')\n",
    "            out.append([line[0],[float(x) for x in line[1:] if x != '']])\n",
    "    return out"
   ]
  },
  {
   "cell_type": "code",
   "execution_count": 4,
   "metadata": {},
   "outputs": [],
   "source": [
    "yearly_train = readData(\".data/Yearly-train.csv\")"
   ]
  },
  {
   "cell_type": "code",
   "execution_count": null,
   "metadata": {},
   "outputs": [],
   "source": [
    "yearly_train = readData(\".data/Yearly-train.csv\")\n",
    "weekly_train=readData('.data/Weekly-train.csv')\n",
    "quaterly_train=readData('.data/Quarterly-train.csv')\n",
    "monthly_train= readData('.data/Monthly-train.csv')\n",
    "hourly_train=readData('.data/Hourly-train.csv')\n",
    "daily_train=readData('.data/Daily-train.csv')"
   ]
  },
  {
   "cell_type": "code",
   "execution_count": 16,
   "metadata": {},
   "outputs": [],
   "source": [
    "import esig.tosig as ts\n",
    "import sklearn"
   ]
  },
  {
   "cell_type": "code",
   "execution_count": null,
   "metadata": {},
   "outputs": [],
   "source": []
  }
 ],
 "metadata": {
  "kernelspec": {
   "display_name": "Python 3",
   "language": "python",
   "name": "python3"
  },
  "language_info": {
   "codemirror_mode": {
    "name": "ipython",
    "version": 3
   },
   "file_extension": ".py",
   "mimetype": "text/x-python",
   "name": "python",
   "nbconvert_exporter": "python",
   "pygments_lexer": "ipython3",
   "version": "3.6.3"
  }
 },
 "nbformat": 4,
 "nbformat_minor": 1
}
